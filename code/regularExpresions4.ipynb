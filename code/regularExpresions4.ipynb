{
 "cells": [
  {
   "cell_type": "markdown",
   "metadata": {},
   "source": [
    "# Examples"
   ]
  },
  {
   "cell_type": "markdown",
   "metadata": {},
   "source": [
    "It's normal to find encapsulated secuencies between two preidentified dna chains.\n"
   ]
  },
  {
   "cell_type": "markdown",
   "metadata": {},
   "source": [
    "For example we care about the dna chains that start after ATG"
   ]
  },
  {
   "cell_type": "markdown",
   "metadata": {},
   "source": [
    "The final sequence can be one of these 3: TAA, TAG, TGA"
   ]
  },
  {
   "cell_type": "markdown",
   "metadata": {},
   "source": [
    "The encapsuled sequence has to be multiple of 3"
   ]
  },
  {
   "cell_type": "markdown",
   "metadata": {},
   "source": []
  },
  {
   "cell_type": "code",
   "execution_count": 2,
   "metadata": {},
   "outputs": [],
   "source": [
    "import re\n",
    "\n",
    "gen = re.compile('ATG([ACGT]{3})+(TAA|TAG|TGA)')\n",
    "\n",
    "\n",
    "L='ATGTAAGTAGATAGATGATGA...'\n",
    "for i in range(len(L)):\n",
    "    res = re.search(gen, L[i])\n",
    "    if(res is not None):\n",
    "        print(i)\n",
    "        print(res)\n"
   ]
  }
 ],
 "metadata": {
  "interpreter": {
   "hash": "916dbcbb3f70747c44a77c7bcd40155683ae19c65e1c03b4aa3499c5328201f1"
  },
  "kernelspec": {
   "display_name": "Python 3.8.10 64-bit",
   "name": "python3"
  },
  "language_info": {
   "codemirror_mode": {
    "name": "ipython",
    "version": 3
   },
   "file_extension": ".py",
   "mimetype": "text/x-python",
   "name": "python",
   "nbconvert_exporter": "python",
   "pygments_lexer": "ipython3",
   "version": "3.8.10"
  },
  "orig_nbformat": 4
 },
 "nbformat": 4,
 "nbformat_minor": 2
}
