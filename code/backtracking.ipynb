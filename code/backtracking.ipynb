{
 "cells": [
  {
   "cell_type": "markdown",
   "metadata": {},
   "source": []
  },
  {
   "cell_type": "markdown",
   "metadata": {},
   "source": [
    "# Algorithm design \n",
    "\n",
    "## Backtracking \n",
    "\n",
    "Backtracking is a technique used to solve optimization problems using different configurations."
   ]
  },
  {
   "cell_type": "code",
   "execution_count": 4,
   "metadata": {},
   "outputs": [],
   "source": [
    "import numpy as np"
   ]
  },
  {
   "cell_type": "markdown",
   "metadata": {},
   "source": [
    "## Auxiliary functions and som conditions\n",
    "First we need some aux functions to help us with our problem."
   ]
  },
  {
   "cell_type": "code",
   "execution_count": 5,
   "metadata": {},
   "outputs": [],
   "source": [
    "A = np.arange(16).reshape(4,4)"
   ]
  },
  {
   "cell_type": "code",
   "execution_count": 6,
   "metadata": {},
   "outputs": [
    {
     "data": {
      "text/plain": [
       "array([[ 0,  1,  2,  3],\n",
       "       [ 4,  5,  6,  7],\n",
       "       [ 8,  9, 10, 11],\n",
       "       [12, 13, 14, 15]])"
      ]
     },
     "execution_count": 6,
     "metadata": {},
     "output_type": "execute_result"
    }
   ],
   "source": [
    "A"
   ]
  },
  {
   "cell_type": "markdown",
   "metadata": {},
   "source": [
    "How can we get the n-th column of a matrix in numpy"
   ]
  },
  {
   "cell_type": "code",
   "execution_count": 7,
   "metadata": {},
   "outputs": [
    {
     "data": {
      "text/plain": [
       "array([ 8,  9, 10, 11])"
      ]
     },
     "execution_count": 7,
     "metadata": {},
     "output_type": "execute_result"
    }
   ],
   "source": [
    "A[2]\n"
   ]
  },
  {
   "cell_type": "code",
   "execution_count": 8,
   "metadata": {},
   "outputs": [
    {
     "data": {
      "text/plain": [
       "array([ 2,  6, 10, 14])"
      ]
     },
     "execution_count": 8,
     "metadata": {},
     "output_type": "execute_result"
    }
   ],
   "source": [
    "A[:,2]"
   ]
  },
  {
   "cell_type": "markdown",
   "metadata": {},
   "source": [
    "How to get a diagonal"
   ]
  },
  {
   "cell_type": "code",
   "execution_count": 9,
   "metadata": {},
   "outputs": [
    {
     "name": "stdout",
     "output_type": "stream",
     "text": [
      "[(-3, array([0])), (-2, array([4, 1])), (-1, array([8, 5, 2])), (0, array([12,  9,  6,  3])), (1, array([13, 10,  7])), (2, array([14, 11])), (3, array([15]))]\n",
      "[(3, array([3])), (2, array([2, 7])), (1, array([ 1,  6, 11])), (0, array([ 0,  5, 10, 15])), (-1, array([ 4,  9, 14])), (-2, array([ 8, 13])), (-3, array([12]))]\n"
     ]
    }
   ],
   "source": [
    "diagsR=[(i,A[::-1,:].diagonal(i)) for i in range(-A.shape[0]+1,A.shape[0])]\n",
    "diagsN=[(i,A.diagonal(i)) for i in range(A.shape[1]-1, -A.shape[1],-1)]\n",
    "\n",
    "print(diagsR)\n",
    "print(diagsN)"
   ]
  },
  {
   "cell_type": "code",
   "execution_count": 10,
   "metadata": {},
   "outputs": [
    {
     "name": "stdout",
     "output_type": "stream",
     "text": [
      "6\n",
      "24\n"
     ]
    }
   ],
   "source": [
    "#Adding a line\n",
    "print(sum(A[0]))\n",
    "#Adding a column\n",
    "print(sum(A[:,0]))"
   ]
  },
  {
   "cell_type": "code",
   "execution_count": 11,
   "metadata": {},
   "outputs": [
    {
     "name": "stdout",
     "output_type": "stream",
     "text": [
      "[[0. 0. 0. 0.]\n",
      " [0. 1. 0. 0.]\n",
      " [0. 0. 0. 1.]\n",
      " [0. 0. 0. 0.]]\n"
     ]
    }
   ],
   "source": [
    "table = np.zeros((4,4))\n",
    "\n",
    "# balid table\n",
    "table[1,1] = 1\n",
    "table[2,3] = 1\n",
    "print(table)\n",
    "\n",
    "diagsR=dict([(i,table[::-1,:].diagonal(i)) for i in range(-table.shape[0]+1, table.shape[0])])\n",
    "diagsN=dict([(i,table.diagonal(i)) for i in range(table.shape[1]-1, -table.shape[1],-1)])\n",
    "\n",
    "\n",
    "def get_diagonals(c,N=3):\n",
    "    \"\"\"\n",
    "    Function that returns the correspondant index to the inverted diagonal (diagsR) correspondant to the coordinate C in a \n",
    "    table with size 3\n",
    "    \"\"\"\n",
    "    n,m = c\n",
    "    return m-n, n+m-N\n",
    "\n"
   ]
  },
  {
   "cell_type": "code",
   "execution_count": 12,
   "metadata": {},
   "outputs": [
    {
     "name": "stdout",
     "output_type": "stream",
     "text": [
      "0 -1\n",
      "[0. 1. 0. 0.]\n",
      "[0. 1. 0.]\n"
     ]
    }
   ],
   "source": [
    "N, R = get_diagonals((1,1))\n",
    "print(N,R)\n",
    "print(diagsN[N])\n",
    "print(diagsR[R])"
   ]
  },
  {
   "cell_type": "code",
   "execution_count": 13,
   "metadata": {},
   "outputs": [
    {
     "name": "stdout",
     "output_type": "stream",
     "text": [
      "For the (1,1) point\n",
      "Plus line 1.0, column 1.0, diagonal 1.0, daugonal r 1.0\n",
      "\n",
      "For the point (2,3)\n",
      "Sum line 1.0, column 1.0, diagonal 1.0, diagonal r 1.0\n"
     ]
    }
   ],
   "source": [
    "print('For the (1,1) point')\n",
    "n,m = 1,1\n",
    "sumf, sumc = sum(table[n]), sum(table[:,m])\n",
    "# We obtain the index's of the dictionary for diagonals\n",
    "# from point (1,1)\n",
    "N,R = get_diagonals((n,m))\n",
    "suman, sumar = sum(diagsN[N]), sum(diagsR[R])\n",
    "print(\"Plus line {}, column {}, diagonal {}, daugonal r {}\".format(sumf,sumc,suman,sumar))\n",
    "\n",
    "print(\"\\nFor the point (2,3)\")\n",
    "n,m = 2,3\n",
    "sumf, sumc = sum(table[n]), sum(table[:,m])\n",
    "\n",
    "# We obtain the indexes of the dictionary for the diagonals\n",
    "# point (2,3)\n",
    "N,R  = get_diagonals((n,m))\n",
    "suman, sumar = sum(diagsN[N]), sum(diagsR[R])\n",
    "print('Sum line {}, column {}, diagonal {}, diagonal r {}'.format(sumf,sumc,suman,sumar))"
   ]
  },
  {
   "cell_type": "code",
   "execution_count": 14,
   "metadata": {},
   "outputs": [
    {
     "data": {
      "text/plain": [
       "array([[0., 0., 0., 0.],\n",
       "       [0., 1., 1., 0.],\n",
       "       [0., 0., 0., 1.],\n",
       "       [0., 0., 0., 0.]])"
      ]
     },
     "execution_count": 14,
     "metadata": {},
     "output_type": "execute_result"
    }
   ],
   "source": [
    "# Valid Table\n",
    "table[1,2] = 1\n",
    "table"
   ]
  },
  {
   "cell_type": "code",
   "execution_count": 15,
   "metadata": {},
   "outputs": [
    {
     "name": "stdout",
     "output_type": "stream",
     "text": [
      "For the point in (1,2)\n",
      "Sum line 2.0, column 1.0, diagonal 2.0, diagonal r 1.0\n"
     ]
    }
   ],
   "source": [
    "print('For the point in (1,2)')\n",
    "n,m = 1,2\n",
    "sumf, sumc = sum(table[n]), sum(table[:,m])\n",
    "# We obtain the indexes of the dictionary for the diagonals\n",
    "# of point (1,1)\n",
    "N,R = get_diagonals((n,m))\n",
    "suman,sumar = sum(diagsN[N]), sum(diagsR[R])\n",
    "print('Sum line {}, column {}, diagonal {}, diagonal r {}'.format(sumf,sumc,suman, sumar))"
   ]
  },
  {
   "cell_type": "code",
   "execution_count": 16,
   "metadata": {},
   "outputs": [],
   "source": [
    "def is_valid(T,c,N=3):\n",
    "    \"\"\"\n",
    "    Function that returns True if the coordinate c in the table sums something bigger than 1\n",
    "    \"\"\"\n",
    "    n,m = c\n",
    "    N,R = get_diagonals(c,N)\n",
    "\n",
    "    if(sum(T[n])>0):\n",
    "        #print(1)\n",
    "        return False\n",
    "    elif(sum(T[:,m])>0):\n",
    "        #print(2)\n",
    "        return False\n",
    "    elif(sum(diagsN[N])>0):\n",
    "        #print(3)\n",
    "        return False\n",
    "    elif(sum(diagsR[R])>0):\n",
    "        #print(4)\n",
    "        return False\n",
    "    else:\n",
    "        return True\n"
   ]
  },
  {
   "cell_type": "markdown",
   "metadata": {},
   "source": [
    "## Exploration of a state Tree\n"
   ]
  },
  {
   "cell_type": "code",
   "execution_count": 17,
   "metadata": {},
   "outputs": [],
   "source": [
    "def tryQueen(n, counter, table): \n",
    "    N=  table.shape[0]-1\n",
    "    if(n==counter):\n",
    "        return True\n",
    "    for i in range(n): #We explore the table\n",
    "        for j in range(n):\n",
    "            if(is_valid(table, (i,j),N)):\n",
    "                table[i,j] = 1 # we set a queen \n",
    "                counter += 1\n",
    "                if(tryQueen(n,counter, table)):\n",
    "                    return True\n",
    "                table[i,j] = 0 # if it isnt valid\n",
    "                counter -=1\n",
    "    return False"
   ]
  },
  {
   "cell_type": "code",
   "execution_count": 18,
   "metadata": {},
   "outputs": [],
   "source": [
    "table = np.zeros((4,4))\n",
    "diagsR=dict([(i,table[::-1,:].diagonal(i)) for i in range(-table.shape[0]+1, table.shape[0])])\n",
    "diagsN=dict([(i,table.diagonal(i)) for i in range(table.shape[1]-1, -table.shape[1],-1)])"
   ]
  },
  {
   "cell_type": "code",
   "execution_count": 19,
   "metadata": {},
   "outputs": [
    {
     "data": {
      "text/plain": [
       "True"
      ]
     },
     "execution_count": 19,
     "metadata": {},
     "output_type": "execute_result"
    }
   ],
   "source": [
    "tryQueen(4,0,table)"
   ]
  },
  {
   "cell_type": "code",
   "execution_count": 20,
   "metadata": {},
   "outputs": [
    {
     "data": {
      "text/plain": [
       "array([[0., 1., 0., 0.],\n",
       "       [0., 0., 0., 1.],\n",
       "       [1., 0., 0., 0.],\n",
       "       [0., 0., 1., 0.]])"
      ]
     },
     "execution_count": 20,
     "metadata": {},
     "output_type": "execute_result"
    }
   ],
   "source": [
    "table"
   ]
  }
 ],
 "metadata": {
  "interpreter": {
   "hash": "916dbcbb3f70747c44a77c7bcd40155683ae19c65e1c03b4aa3499c5328201f1"
  },
  "kernelspec": {
   "display_name": "Python 3.8.10 64-bit",
   "name": "python3"
  },
  "language_info": {
   "codemirror_mode": {
    "name": "ipython",
    "version": 3
   },
   "file_extension": ".py",
   "mimetype": "text/x-python",
   "name": "python",
   "nbconvert_exporter": "python",
   "pygments_lexer": "ipython3",
   "version": "3.8.10"
  },
  "orig_nbformat": 4
 },
 "nbformat": 4,
 "nbformat_minor": 2
}
