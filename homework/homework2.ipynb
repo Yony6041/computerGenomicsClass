{
 "cells": [
  {
   "cell_type": "markdown",
   "metadata": {},
   "source": [
    "## Escribir un programa que me permita aplicar el 10% de descuento si la compra total es mayor a $100."
   ]
  },
  {
   "cell_type": "code",
   "execution_count": 4,
   "metadata": {},
   "outputs": [
    {
     "name": "stdout",
     "output_type": "stream",
     "text": [
      "Total: 292.5\n"
     ]
    }
   ],
   "source": [
    "compra = 325\n",
    "\n",
    "if compra > 100: \n",
    "    discount = compra*0.10\n",
    "    total = compra - discount\n",
    "    print(\"Total: \" + str(total))\n",
    "else: \n",
    "    total = compra\n",
    "    print(\"Total: \" + str(total))"
   ]
  },
  {
   "cell_type": "markdown",
   "metadata": {},
   "source": [
    "### Se sabe que la fórmula para obtener el área de un triángulo es a = (b x h) / 2, donde b es la longitud de la base del triángulo, y h es su altura. \n",
    "\n",
    "## Escribir un programa que permita realizar el cálculo del área de un triángulo. Si el área contiene valores decimales, imprimir el resultado con dos dígitos."
   ]
  },
  {
   "cell_type": "code",
   "execution_count": 7,
   "metadata": {},
   "outputs": [
    {
     "name": "stdout",
     "output_type": "stream",
     "text": [
      "Area: 100\n",
      "Area: 32.17\n"
     ]
    }
   ],
   "source": [
    "def getArea(b,h):\n",
    "    area = (b * h) / 2\n",
    "    if area.is_integer(): \n",
    "        print(\"Area: \" + str(int(area)))\n",
    "    else: \n",
    "        area = \"{:.2f}\".format(area)\n",
    "        print(\"Area: \" + str(area))\n",
    "getArea(20, 10)\n",
    "getArea(6.66, 9.66)"
   ]
  },
  {
   "cell_type": "markdown",
   "metadata": {},
   "source": [
    "### La fórmula para el Índice de Masa Corportal es IMC = kg/m2 donde kg es el peso de la persona en kilogramos y m2 es la altura en metros al cuadrado.\n",
    "## Realizar un programa que calcula el IMC cuando se le provee el peso y la altura."
   ]
  },
  {
   "cell_type": "code",
   "execution_count": 9,
   "metadata": {},
   "outputs": [
    {
     "name": "stdout",
     "output_type": "stream",
     "text": [
      "IMC: 25.402816083611555\n"
     ]
    }
   ],
   "source": [
    "def getIMC(kg,m):\n",
    "    masaCorporal = (kg / m**2)\n",
    "    print(\"IMC: \" + str(masaCorporal))\n",
    "    \n",
    "getIMC(70, 1.66)"
   ]
  },
  {
   "cell_type": "markdown",
   "metadata": {},
   "source": [
    "## Analiza el siguiente código:"
   ]
  },
  {
   "cell_type": "code",
   "execution_count": null,
   "metadata": {},
   "outputs": [],
   "source": [
    "curso = str(input(\"Ingresa el nombre de tu curso (Genomica Computacional o Plantas I): \"))\n",
    "cali_teoria = float(input(\"Ingresa tu calificación de la sección de teoría: \"))\n",
    "cali_practica = float(input(\"Ingresa tu calificación de la sección de práctica: \"))\n",
    "\n",
    "if(curso == \"Plantas I\" or curso == \"plantas I\"):\n",
    "    if(cali_teoria > 5 or cali_practica > 5):\n",
    "        print(\"Por favor revisa la calificación ingresada\")\n",
    "    else: \n",
    "        print(\"Calificación válida. Tu calificación total es: \", cali_teoria + cali_practica)             \n",
    "elif(curso == \"Genomica Computacional\" or curso == \"Genomica Computacional\"):\n",
    "    if(cali_teoria > 6 or cali_practica > 4):\n",
    "        print(\"Por favor revisa la calificación ingresada.\")\n",
    "    else: \n",
    "        print(\"Calificación válida. Tu calificación total es: \",cali_teoria + cali_practica)\n",
    "else: \n",
    "    print(\"Curso no reconocido. Ingresa la calificación de tu curso (Plantas I o Genomica Computacional)\")"
   ]
  },
  {
   "cell_type": "markdown",
   "metadata": {},
   "source": [
    "## Contesta las siguientes preguntas:\n",
    "\n",
    "### ¿Qué es lo que hace éste programa?\n",
    "Muestra la calificación a un alumno en base a su califcacion teorica y \n",
    "practica las cuales tiene valores diferentes en materias diferentes.\n",
    "### Explica línea por línea el programa?\n",
    "Al inicio se le pide escribir al usuario la materia sobre la cual quiere saber su calificación y tambien tiene \n",
    "que escribir la calificación que saco en teoria y en la practica en esa materia.\n",
    "Los condicionales checan que la informacion ingresada sea valida.\n",
    "Despues se usan condicionales if para saber que valor tendra la parte teorica y practica dependiendo de la materia.\n",
    "Posteriormente se imprimen los resultados de la calificación.\n",
    "### ¿Para qué se usan los operadores or?\n",
    "Para asegurarnos que no importe si se escribio una palabra ne mayusculas o minusculas tambien se usa para ver si los \n",
    "valores ingrsesados son correctos.\n",
    "\n"
   ]
  }
 ],
 "metadata": {
  "interpreter": {
   "hash": "916dbcbb3f70747c44a77c7bcd40155683ae19c65e1c03b4aa3499c5328201f1"
  },
  "kernelspec": {
   "display_name": "Python 3.8.10 64-bit",
   "language": "python",
   "name": "python3"
  },
  "language_info": {
   "codemirror_mode": {
    "name": "ipython",
    "version": 3
   },
   "file_extension": ".py",
   "mimetype": "text/x-python",
   "name": "python",
   "nbconvert_exporter": "python",
   "pygments_lexer": "ipython3",
   "version": "3.8.10"
  },
  "orig_nbformat": 4
 },
 "nbformat": 4,
 "nbformat_minor": 2
}
